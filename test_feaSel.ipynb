{
 "cells": [
  {
   "cell_type": "code",
   "execution_count": 29,
   "metadata": {
    "scrolled": true
   },
   "outputs": [],
   "source": [
    "import numpy as np\n",
    "from sklearn.cross_validation import cross_val_score, ShuffleSplit\n",
    "from sklearn.datasets import load_boston\n",
    "from sklearn.ensemble import RandomForestRegressor\n",
    "from sklearn import datasets\n",
    "import random"
   ]
  },
  {
   "cell_type": "code",
   "execution_count": 30,
   "metadata": {},
   "outputs": [
    {
     "name": "stdout",
     "output_type": "stream",
     "text": [
      "[(0.93574209696664368, 2), (0.92023126349149842, 3), (0.54302763399168941, 0), (0.051864813937995899, 1)]\n"
     ]
    }
   ],
   "source": [
    "iris = datasets.load_iris()\n",
    "X = iris.data\n",
    "y = iris.target\n",
    "target_names = iris.target_names\n",
    "\n",
    "\n",
    "rf = RandomForestRegressor(n_estimators=20, max_depth=4)\n",
    "scores = []\n",
    "for i in range(X.shape[1]):\n",
    "     score = cross_val_score(rf, X[:, i:i+1], y, scoring=\"r2\",cv=ShuffleSplit(len(X),10, .4))\n",
    "     scores.append((np.mean(score),i))\n",
    "print(sorted(scores, reverse=True))"
   ]
  },
  {
   "cell_type": "code",
   "execution_count": 42,
   "metadata": {
    "scrolled": true
   },
   "outputs": [
    {
     "name": "stdout",
     "output_type": "stream",
     "text": [
      "0.958011769373\n",
      "[2, 3]\n"
     ]
    }
   ],
   "source": [
    "\n",
    "rf = RandomForestRegressor(n_estimators=20, max_depth=4)\n",
    "best_score = 0\n",
    "best_set=[]\n",
    "idx=list(range(4))\n",
    "selnum=2\n",
    "for i in range(100):\n",
    "    random.shuffle(idx)\n",
    "    score = cross_val_score(rf, X[:, idx[0:selnum]], y, scoring=\"r2\",cv=ShuffleSplit(len(X),10, .4))\n",
    "    ms=np.mean(score)\n",
    "    if ms>best_score:\n",
    "        best_score=ms\n",
    "        best_set=idx[0:selnum]\n",
    "    \n",
    "print(best_score)\n",
    "print(best_set)"
   ]
  },
  {
   "cell_type": "code",
   "execution_count": null,
   "metadata": {
    "collapsed": true
   },
   "outputs": [],
   "source": []
  }
 ],
 "metadata": {
  "kernelspec": {
   "display_name": "Python 3",
   "language": "python",
   "name": "python3"
  },
  "language_info": {
   "codemirror_mode": {
    "name": "ipython",
    "version": 3
   },
   "file_extension": ".py",
   "mimetype": "text/x-python",
   "name": "python",
   "nbconvert_exporter": "python",
   "pygments_lexer": "ipython3",
   "version": "3.6.1"
  }
 },
 "nbformat": 4,
 "nbformat_minor": 2
}
