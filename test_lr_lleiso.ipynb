{
 "cells": [
  {
   "cell_type": "code",
   "execution_count": 32,
   "metadata": {
    "collapsed": true
   },
   "outputs": [],
   "source": [
    "import numpy as np\n",
    "import matplotlib.pyplot as plt\n",
    "from mpl_toolkits.mplot3d import Axes3D\n",
    "from matplotlib.ticker import NullFormatter\n",
    "from time import time\n",
    "from sklearn.utils import check_random_state\n",
    "from sklearn import manifold, datasets\n",
    "from sklearn.decomposition import PCA\n",
    "from sklearn import preprocessing\n",
    "from sklearn.model_selection import train_test_split\n",
    "from sklearn.linear_model import LogisticRegression\n",
    "from sklearn.neighbors import KNeighborsClassifier"
   ]
  },
  {
   "cell_type": "code",
   "execution_count": 65,
   "metadata": {},
   "outputs": [],
   "source": [
    "iris = datasets.load_iris()\n",
    "X = iris.data\n",
    "y = iris.target\n",
    "\n",
    "X_scaled = preprocessing.scale(X,1)\n",
    "X=X_scaled\n",
    "\n",
    "\n"
   ]
  },
  {
   "cell_type": "code",
   "execution_count": 66,
   "metadata": {},
   "outputs": [
    {
     "name": "stdout",
     "output_type": "stream",
     "text": [
      "0.548 0.715 0.908\n",
      "0.583 0.713 0.908\n",
      "0.703 0.857 0.908\n",
      "0.892 0.758 0.908\n",
      "0.927 0.743 0.908\n",
      "0.738 0.852 0.908\n",
      "0.837 0.792 0.908\n",
      "0.927 0.783 0.908\n",
      "0.965 0.855 0.908\n",
      "0.868 0.828 0.908\n",
      "0.920 0.825 0.908\n",
      "0.962 0.858 0.908\n"
     ]
    }
   ],
   "source": [
    "\n",
    "sumlle=0\n",
    "sumiso=0\n",
    "sumori=0\n",
    "n_c=2\n",
    "numnei=10\n",
    "for n_c in [1,2,3,4]:\n",
    "    for numnei in [10,20,40]:\n",
    "        sumlle=0\n",
    "        sumiso=0\n",
    "        sumori=0\n",
    "        for ite in range(10):\n",
    "            # preprocess dataset, split into training and test part   \n",
    "            X_train, X_test, y_train, y_test =  train_test_split(X, y, test_size=.4, random_state=ite)\n",
    "\n",
    "            clf = manifold.LocallyLinearEmbedding(numnei, n_components=n_c, method='standard')\n",
    "            X_lle_train = clf.fit_transform(X_train)\n",
    "            X_lle_test=clf.transform(X_test)\n",
    "\n",
    "\n",
    "            clf = manifold.Isomap(numnei, n_components=n_c)\n",
    "            X_iso_train = clf.fit_transform(X_train)\n",
    "            X_iso_test=clf.transform(X_test)\n",
    "\n",
    "\n",
    "\n",
    "            lr = LogisticRegression()\n",
    "            lr.fit(X_lle_train,y_train)\n",
    "            acc_lle=lr.score(X_lle_test,y_test)\n",
    "            sumlle+=acc_lle\n",
    "\n",
    "\n",
    "\n",
    "            lr.fit(X_iso_train,y_train)\n",
    "            acc_iso=lr.score(X_iso_test,y_test)\n",
    "            sumiso+=acc_iso\n",
    "\n",
    "            lr = LogisticRegression()\n",
    "            lr.fit(X_train,y_train)\n",
    "            acc_ori=lr.score(X_test,y_test)\n",
    "            sumori+=acc_ori\n",
    "\n",
    "        print(\"%.3f %.3f %.3f\"%(sumlle/10,sumiso/10,sumori/10))"
   ]
  },
  {
   "cell_type": "code",
   "execution_count": null,
   "metadata": {
    "collapsed": true
   },
   "outputs": [],
   "source": []
  }
 ],
 "metadata": {
  "kernelspec": {
   "display_name": "Python 3",
   "language": "python",
   "name": "python3"
  },
  "language_info": {
   "codemirror_mode": {
    "name": "ipython",
    "version": 3
   },
   "file_extension": ".py",
   "mimetype": "text/x-python",
   "name": "python",
   "nbconvert_exporter": "python",
   "pygments_lexer": "ipython3",
   "version": "3.6.1"
  }
 },
 "nbformat": 4,
 "nbformat_minor": 2
}
